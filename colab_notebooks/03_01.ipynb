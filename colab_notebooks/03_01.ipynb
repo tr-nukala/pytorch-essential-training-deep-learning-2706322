{
  "nbformat": 4,
  "nbformat_minor": 0,
  "metadata": {
    "colab": {
      "provenance": [],
      "include_colab_link": true
    },
    "kernelspec": {
      "name": "python3",
      "display_name": "Python 3"
    },
    "language_info": {
      "name": "python"
    }
  },
  "cells": [
    {
      "cell_type": "markdown",
      "metadata": {
        "id": "view-in-github",
        "colab_type": "text"
      },
      "source": [
        "<a href=\"https://colab.research.google.com/github/tr-nukala/pytorch-essential-training-deep-learning-2706322/blob/main/colab_notebooks/03_01.ipynb\" target=\"_parent\"><img src=\"https://colab.research.google.com/assets/colab-badge.svg\" alt=\"Open In Colab\"/></a>"
      ]
    },
    {
      "cell_type": "markdown",
      "source": [
        "### Different ways to create tensors"
      ],
      "metadata": {
        "id": "IZqFiLLP6Q9f"
      }
    },
    {
      "cell_type": "code",
      "source": [
        "import torch\n",
        "import numpy as np"
      ],
      "metadata": {
        "id": "umd7jPIdZ0DV"
      },
      "execution_count": 1,
      "outputs": []
    },
    {
      "cell_type": "code",
      "source": [
        "# initialize a tensor from a Python list\n",
        "tensor_from_list=torch.tensor([1,2,3,4,5])\n",
        "# initialize a tensor from a tuple\n",
        "tensor_from_tuple=torch.tensor((6,7,8,9,10))\n",
        "print(\"Tensor from list:\",tensor_from_list)\n",
        "print(\"Tensor from tuple:\",tensor_from_tuple)"
      ],
      "metadata": {
        "colab": {
          "base_uri": "https://localhost:8080/"
        },
        "id": "zb1bVLtYbYNj",
        "outputId": "94afe699-d36f-4ab0-e969-59392b596c02"
      },
      "execution_count": 2,
      "outputs": [
        {
          "output_type": "stream",
          "name": "stdout",
          "text": [
            "Tensor from list: tensor([1, 2, 3, 4, 5])\n",
            "Tensor from tuple: tensor([ 6,  7,  8,  9, 10])\n"
          ]
        }
      ]
    },
    {
      "cell_type": "code",
      "source": [
        "# initialize a tensor from a ndarray\n",
        "tensor_from_array=torch.tensor(np.array([11,12,13,14,15]))\n",
        "print(\"Tensor from array:\",tensor_from_array)"
      ],
      "metadata": {
        "colab": {
          "base_uri": "https://localhost:8080/"
        },
        "id": "19SW4IVddwGF",
        "outputId": "bb48865b-c1a2-4c56-b03f-4a340fe8e2b0"
      },
      "execution_count": 3,
      "outputs": [
        {
          "output_type": "stream",
          "name": "stdout",
          "text": [
            "Tensor from array: tensor([11, 12, 13, 14, 15])\n"
          ]
        }
      ]
    },
    {
      "cell_type": "markdown",
      "source": [
        "#### Different functions for creating tensors:\n",
        "##### torch.empty(), torch.ones(), and torch.zeros()"
      ],
      "metadata": {
        "id": "WKqZezHA8JqY"
      }
    },
    {
      "cell_type": "code",
      "source": [
        "tensor_emp = torch.empty(3,4)\n",
        "print(\"tensor_emp :\",tensor_emp)\n",
        "tensor_zeros = torch.zeros(3,4)\n",
        "print(\"tensor_zeros :\",tensor_zeros)\n",
        "tensor_ones= torch.ones(3,4)\n",
        "print(\"tensor_ones :\",tensor_ones)"
      ],
      "metadata": {
        "id": "9sN85Sa8oN2F",
        "colab": {
          "base_uri": "https://localhost:8080/"
        },
        "outputId": "e39f84c1-5112-41d1-fa0e-489a6a2c9615"
      },
      "execution_count": 4,
      "outputs": [
        {
          "output_type": "stream",
          "name": "stdout",
          "text": [
            "tensor_emp : tensor([[0., 0., 0., 0.],\n",
            "        [0., 0., 0., 0.],\n",
            "        [0., 0., 0., 0.]])\n",
            "tensor_zeros : tensor([[0., 0., 0., 0.],\n",
            "        [0., 0., 0., 0.],\n",
            "        [0., 0., 0., 0.]])\n",
            "tensor_ones : tensor([[1., 1., 1., 1.],\n",
            "        [1., 1., 1., 1.],\n",
            "        [1., 1., 1., 1.]])\n"
          ]
        }
      ]
    },
    {
      "cell_type": "code",
      "source": [
        "# tensors initialized by size with random values\n",
        "# returns a tensor filled with random numbers from a uniform distribution\n",
        "tensor_rand_un = torch.rand(4,5)\n",
        "print(\"tensor_rand_un :\",tensor_rand_un)\n",
        "# returns a tensor filled with random numbers from a normal distribution\n",
        "tensor_rand_norm = torch.randn(4,5)\n",
        "print(\"tensor_rand_norm :\",tensor_rand_norm)\n",
        "# returns a tensor filled with random integers generated uniformly\n",
        "tensor_rand_int = torch.randint(5,10,(4,5))\n",
        "print(\"tensor_rand_int :\",tensor_rand_int)"
      ],
      "metadata": {
        "id": "uEPf9V0vtBgG",
        "colab": {
          "base_uri": "https://localhost:8080/"
        },
        "outputId": "93362052-bf5a-4a11-ac4a-dc6ef8386493"
      },
      "execution_count": 5,
      "outputs": [
        {
          "output_type": "stream",
          "name": "stdout",
          "text": [
            "tensor_rand_un : tensor([[0.6391, 0.8820, 0.5191, 0.2258, 0.9734],\n",
            "        [0.2181, 0.3085, 0.0819, 0.8647, 0.3126],\n",
            "        [0.9671, 0.1838, 0.5938, 0.6768, 0.4668],\n",
            "        [0.7462, 0.2997, 0.1865, 0.3199, 0.2472]])\n",
            "tensor_rand_norm : tensor([[-1.3356,  1.5595,  0.4697,  0.9925,  1.4536],\n",
            "        [ 0.9592,  0.1105,  0.4368, -1.4444, -1.2770],\n",
            "        [-0.7763,  0.0814,  0.8071, -0.2035,  0.1676],\n",
            "        [ 1.0258,  1.2963, -0.9140,  0.0566,  0.0159]])\n",
            "tensor_rand_int : tensor([[5, 8, 9, 9, 8],\n",
            "        [8, 6, 7, 9, 9],\n",
            "        [8, 9, 7, 7, 9],\n",
            "        [6, 6, 5, 9, 9]])\n"
          ]
        }
      ]
    },
    {
      "cell_type": "code",
      "source": [
        "# initialize a tensor of ones\n",
        "tensor_ones = torch.ones_like(tensor_rand_int)\n",
        "print(tensor_ones)"
      ],
      "metadata": {
        "colab": {
          "base_uri": "https://localhost:8080/"
        },
        "id": "X3vWpA0hrYxR",
        "outputId": "87812cdf-9752-4738-95f1-b29c76720834"
      },
      "execution_count": 6,
      "outputs": [
        {
          "output_type": "stream",
          "name": "stdout",
          "text": [
            "tensor([[1, 1, 1, 1, 1],\n",
            "        [1, 1, 1, 1, 1],\n",
            "        [1, 1, 1, 1, 1],\n",
            "        [1, 1, 1, 1, 1]])\n"
          ]
        }
      ]
    },
    {
      "source": [
        "\n",
        "\n",
        "# Create a tensor with values from a normal distribution with mean = 5\n",
        "tensor_with_mean_5 = torch.normal(mean=5, std=1, size=(2, 3))\n",
        "print(tensor_with_mean_5)  # Values will be centered around 5"
      ],
      "cell_type": "code",
      "metadata": {
        "id": "oI2X5GOakyUy",
        "outputId": "0371d937-126f-4cb1-86fe-ab946b237f25",
        "colab": {
          "base_uri": "https://localhost:8080/"
        }
      },
      "execution_count": 7,
      "outputs": [
        {
          "output_type": "stream",
          "name": "stdout",
          "text": [
            "tensor([[3.8019, 5.6314, 4.8120],\n",
            "        [6.1756, 2.8415, 5.8306]])\n"
          ]
        }
      ]
    },
    {
      "source": [
        "\n",
        "\n",
        "# Create a tensor with values from a normal distribution with std = 2\n",
        "tensor_with_std_2 = torch.normal(mean=0, std=2, size=(2, 3))\n",
        "print(tensor_with_std_2)  # Values will be more spread out"
      ],
      "cell_type": "code",
      "metadata": {
        "id": "F98WJG7Rk8Z5",
        "outputId": "6bc42640-cdee-49cd-a557-73bc65e780a8",
        "colab": {
          "base_uri": "https://localhost:8080/"
        }
      },
      "execution_count": 8,
      "outputs": [
        {
          "output_type": "stream",
          "name": "stdout",
          "text": [
            "tensor([[ 3.0144, -0.5844,  1.8245],\n",
            "        [-1.2047,  1.1381,  1.2134]])\n"
          ]
        }
      ]
    },
    {
      "source": [
        "\n",
        "\n",
        "# Generate heights with mean = 175 cm and std = 10 cm\n",
        "heights = torch.normal(mean=175, std=10, size=(100,))\n",
        "print(heights)"
      ],
      "cell_type": "code",
      "metadata": {
        "id": "zWcpYYa9lFzz",
        "outputId": "82881798-6026-4ea2-9079-6ab59bfe76d7",
        "colab": {
          "base_uri": "https://localhost:8080/"
        }
      },
      "execution_count": 10,
      "outputs": [
        {
          "output_type": "stream",
          "name": "stdout",
          "text": [
            "tensor([173.7807, 180.2596, 174.8199, 177.0205, 181.1580, 184.2496, 173.9381,\n",
            "        171.3701, 167.6152, 176.0973, 170.0568, 174.7798, 176.5835, 171.0297,\n",
            "        184.0435, 167.8916, 183.4122, 173.8812, 181.4492, 178.6461, 165.1304,\n",
            "        156.9121, 178.3168, 162.6542, 184.8648, 162.6586, 171.9713, 150.3939,\n",
            "        191.3448, 171.0468, 167.8795, 182.5518, 167.3751, 166.1567, 161.4302,\n",
            "        159.5001, 183.0199, 177.9002, 175.4382, 180.5015, 178.4225, 170.2501,\n",
            "        181.8301, 187.0603, 174.0932, 168.7491, 164.6570, 170.2088, 178.3634,\n",
            "        173.3998, 182.5315, 160.7563, 176.3938, 184.6111, 181.8734, 178.3157,\n",
            "        188.0307, 161.2532, 177.6318, 199.3980, 180.1310, 170.2273, 159.7941,\n",
            "        172.1278, 178.4359, 164.1658, 164.2351, 156.4378, 184.7814, 162.6803,\n",
            "        184.2559, 178.4521, 187.9033, 164.3248, 167.0565, 188.0524, 174.8226,\n",
            "        187.9326, 185.3992, 190.6590, 171.5887, 180.8478, 175.2713, 170.8495,\n",
            "        165.0887, 180.8761, 165.6303, 166.5849, 173.2512, 179.0912, 168.4725,\n",
            "        176.1302, 164.1339, 193.3124, 165.2846, 172.5930, 166.5027, 164.6002,\n",
            "        159.7713, 158.3332])\n"
          ]
        }
      ]
    },
    {
      "source": [
        "data_flt = torch.tensor([2., 4., 6., 8., 10.])\n",
        "var_flt = torch.var(data_flt)\n",
        "mean_flt = torch.mean(data_flt)\n",
        "std_flt = torch.std(data_flt)\n",
        "\n",
        "print(mean_flt)  # Output: tensor(6.0000)\n",
        "print(var_flt)  # Output: tensor(2.0000)\n",
        "print(std_flt)  # Output: tensor(2.8284)\n",
        "\n",
        "\n",
        "data = torch.tensor([2, 4, 6, 8, 10])\n",
        "std_tofloat = torch.std(data.float())\n",
        "print(std_tofloat)"
      ],
      "cell_type": "code",
      "metadata": {
        "id": "j9oE44domPG1",
        "outputId": "fb19ab64-c114-4f25-bd87-2d3a75a53ad3",
        "colab": {
          "base_uri": "https://localhost:8080/"
        }
      },
      "execution_count": 19,
      "outputs": [
        {
          "output_type": "stream",
          "name": "stdout",
          "text": [
            "tensor(6.)\n",
            "tensor(10.)\n",
            "tensor(3.1623)\n",
            "tensor(3.1623)\n"
          ]
        }
      ]
    }
  ]
}